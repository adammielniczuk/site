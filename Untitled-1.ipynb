{
 "cells": [
  {
   "cell_type": "code",
   "execution_count": 3,
   "metadata": {},
   "outputs": [],
   "source": [
    "import chess\n",
    "import chess.svg\n",
    "from PIL import Image\n",
    "from cairosvg import svg2png\n",
    "import io\n",
    "import random"
   ]
  },
  {
   "cell_type": "code",
   "execution_count": 4,
   "metadata": {},
   "outputs": [],
   "source": [
    "def save_board_with_arrow(board, move, filename):\n",
    "    start_square = move.from_square\n",
    "    end_square = move.to_square\n",
    "    svg_data = chess.svg.board(\n",
    "        board,\n",
    "        arrows=[(start_square, end_square)],\n",
    "        size=400\n",
    "    )\n",
    "    png_data = svg2png(bytestring=svg_data)\n",
    "    with open(filename, \"wb\") as f:\n",
    "        f.write(png_data)"
   ]
  },
  {
   "cell_type": "code",
   "execution_count": 7,
   "metadata": {},
   "outputs": [],
   "source": [
    "board = chess.Board()\n",
    "move = chess.Move.from_uci(\"g1f3\")  # Example move\n",
    "board.push(move)\n",
    "\n",
    "    # Save the board with an arrow highlighting the move\n",
    "save_board_with_arrow(board, move, \"board_with_arrow.png\")"
   ]
  },
  {
   "cell_type": "code",
   "execution_count": 2,
   "metadata": {},
   "outputs": [],
   "source": [
    "def generate_random_position():\n",
    "    board = chess.Board()\n",
    "    num_moves = random.randint(5, 20)\n",
    "    for _ in range(num_moves):\n",
    "        if not board.is_game_over():\n",
    "            moves = list(board.legal_moves)\n",
    "            move = random.choice(moves)\n",
    "            board.push(move)\n",
    "        else:\n",
    "            break\n",
    "    return board"
   ]
  },
  {
   "cell_type": "code",
   "execution_count": 3,
   "metadata": {},
   "outputs": [],
   "source": [
    "def save_board_as_image(board, filename):\n",
    "    svg_data = chess.svg.board(board, size=400)\n",
    "    png_data = svg2png(bytestring=svg_data)\n",
    "    with open(filename, \"wb\") as f:\n",
    "        f.write(png_data)"
   ]
  },
  {
   "cell_type": "code",
   "execution_count": 6,
   "metadata": {},
   "outputs": [],
   "source": [
    "for x in range(20):\n",
    "    if random.random()<0.5:\n",
    "        filename=f'images/{x}_human_'\n",
    "    else:\n",
    "        filename=f'images/{x}_computer_'\n",
    "    b=generate_random_position()\n",
    "    c=generate_random_position()\n",
    "    save_board_as_image(b, filename+'before.png')\n",
    "    save_board_as_image(c, filename+'after.png')"
   ]
  }
 ],
 "metadata": {
  "kernelspec": {
   "display_name": "Python 3",
   "language": "python",
   "name": "python3"
  },
  "language_info": {
   "codemirror_mode": {
    "name": "ipython",
    "version": 3
   },
   "file_extension": ".py",
   "mimetype": "text/x-python",
   "name": "python",
   "nbconvert_exporter": "python",
   "pygments_lexer": "ipython3",
   "version": "3.12.7"
  }
 },
 "nbformat": 4,
 "nbformat_minor": 2
}
